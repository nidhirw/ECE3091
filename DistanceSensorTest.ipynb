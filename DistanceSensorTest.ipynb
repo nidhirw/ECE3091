{
 "cells": [
  {
   "cell_type": "code",
   "execution_count": 1,
   "metadata": {},
   "outputs": [],
   "source": [
    "#Libraries\n",
    "import RPi.GPIO as GPIO\n",
    "import time\n",
    "#GPIO Mode (BOARD / BCM)\n",
    "GPIO.setmode(GPIO.BCM)\n",
    "#set GPIO Pins\n",
    "GPIO_TRIGGER = 23\n",
    "GPIO_ECHO = 18\n",
    "#set GPIO direction (IN / OUT)\n",
    "GPIO.setup(GPIO_TRIGGER, GPIO.OUT)\n",
    "GPIO.setup(GPIO_ECHO, GPIO.IN)\n",
    "def distance():\n",
    "    # set Trigger to HIGH\n",
    "    GPIO.output(GPIO_TRIGGER, True)\n",
    "    # set Trigger after 0.01ms to LOW\n",
    "    time.sleep(0.00001)\n",
    "    GPIO.output(GPIO_TRIGGER, False)\n",
    "    StartTime = time.time()\n",
    "    StopTime = time.time()\n",
    "    # save StartTime\n",
    "    while GPIO.input(GPIO_ECHO) == 0:\n",
    "        StartTime = time.time()\n",
    "    # save time of arrival\n",
    "    while GPIO.input(GPIO_ECHO) == 1:\n",
    "        StopTime = time.time()\n",
    "    # time difference between start and arrival\n",
    "    TimeElapsed = StopTime - StartTime\n",
    "    # multiply with the sonic speed (34300 cm/s)\n",
    "    # and divide by 2, because there and back\n",
    "    distance = (TimeElapsed * 34300) / 2\n",
    "    return distance"
   ]
  },
  {
   "cell_type": "code",
   "execution_count": 2,
   "metadata": {},
   "outputs": [
    {
     "name": "stdout",
     "output_type": "stream",
     "text": [
      "Measured Distance = 0.9 cm\n",
      "Measured Distance = 0.9 cm\n",
      "Measured Distance = 0.9 cm\n",
      "Measured Distance = 0.9 cm\n",
      "Measured Distance = 0.9 cm\n",
      "Measured Distance = 0.9 cm\n",
      "Measured Distance = 0.9 cm\n",
      "Measured Distance = 0.9 cm\n",
      "Measured Distance = 0.9 cm\n",
      "Measured Distance = 0.9 cm\n",
      "Measured Distance = 0.9 cm\n",
      "Measured Distance = 0.9 cm\n",
      "Measured Distance = 0.9 cm\n",
      "Measured Distance = 0.9 cm\n",
      "Measured Distance = 0.9 cm\n",
      "Measured Distance = 0.9 cm\n",
      "Measured Distance = 0.9 cm\n",
      "Measured Distance = 0.9 cm\n",
      "Measurement stopped by User\n"
     ]
    }
   ],
   "source": [
    "\n",
    "    try:\n",
    "        while True:\n",
    "            dist = distance()\n",
    "            print (\"Measured Distance = %.1f cm\" % dist)\n",
    "            time.sleep(1)\n",
    "        # Reset by pressing CTRL + C\n",
    "    except KeyboardInterrupt:\n",
    "        print(\"Measurement stopped by User\")\n",
    "        GPIO.cleanup()"
   ]
  },
  {
   "cell_type": "code",
   "execution_count": null,
   "metadata": {},
   "outputs": [],
   "source": []
  }
 ],
 "metadata": {
  "kernelspec": {
   "display_name": "Python 3",
   "language": "python",
   "name": "python3"
  },
  "language_info": {
   "codemirror_mode": {
    "name": "ipython",
    "version": 3
   },
   "file_extension": ".py",
   "mimetype": "text/x-python",
   "name": "python",
   "nbconvert_exporter": "python",
   "pygments_lexer": "ipython3",
   "version": "3.8.10"
  }
 },
 "nbformat": 4,
 "nbformat_minor": 4
}
