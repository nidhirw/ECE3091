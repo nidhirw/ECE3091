{
 "cells": [
  {
   "cell_type": "code",
   "execution_count": 1,
   "metadata": {},
   "outputs": [],
   "source": [
    "import numpy as np\n",
    "from matplotlib import pyplot as plt\n",
    "from IPython import display\n",
    "import gpiozero\n",
    "import time\n",
    "#import rpio.gpio\n",
    "import RPi\n",
    "from gpiozero.pins.rpigpio import RPiGPIOFactory\n",
    "from gpiozero import Device\n",
    "#from gpiozero import RotaryEncoder\n",
    "factory = RPiGPIOFactory()\n",
    "from time import sleep\n",
    "Device.pin_factory = RPiGPIOFactory()"
   ]
  },
  {
   "cell_type": "code",
   "execution_count": 2,
   "metadata": {},
   "outputs": [
    {
     "name": "stderr",
     "output_type": "stream",
     "text": [
      "/usr/local/lib/python3.8/dist-packages/gpiozero/input_devices.py:855: PWMSoftwareFallback: For more accurate readings, use the pigpio pin factory.See https://gpiozero.readthedocs.io/en/stable/api_input.html#distancesensor-hc-sr04 for more info\n",
      "  warnings.warn(PWMSoftwareFallback(\n"
     ]
    }
   ],
   "source": [
    "sensor1 = gpiozero.DistanceSensor(18,25)\n"
   ]
  },
  {
   "cell_type": "code",
   "execution_count": 3,
   "metadata": {},
   "outputs": [
    {
     "name": "stdout",
     "output_type": "stream",
     "text": [
      "Distance:  0.0394036735499293\n",
      "Distance:  0.03856440285731651\n",
      "Distance:  0.0390604135410399\n",
      "Distance:  0.03912717761717374\n",
      "Distance:  0.0396451569622269\n",
      "Distance:  0.038837981071903865\n",
      "Distance:  0.03910486571898616\n",
      "Distance:  0.03954355200357611\n",
      "Distance:  0.039241483198094895\n",
      "Distance:  0.038945936341689844\n",
      "Distance:  0.03804333416591021\n",
      "Distance:  0.038634427888476354\n",
      "Distance:  0.039162018509446735\n",
      "Distance:  0.03922895420400948\n",
      "Distance:  0.03871715355166259\n",
      "Distance:  0.039088904131933756\n",
      "Distance:  0.037935378896124236\n",
      "Distance:  0.03910486571898616\n",
      "Distance:  0.038685402005742726\n",
      "Distance:  0.039216081963310216\n",
      "Distance:  0.03907637514760438\n",
      "Distance:  0.0389555476273631\n",
      "Distance:  0.03914622855057928\n",
      "Distance:  0.03921299261695708\n",
      "Distance:  0.0394196351369817\n",
      "Distance:  0.039006350096932464\n",
      "Distance:  0.03898729917328296\n",
      "Distance:  0.039085814785580625\n",
      "Distance:  0.03898420982692983\n",
      "Distance:  0.039244744172632975\n",
      "Distance:  0.03892379606193117\n",
      "Distance:  0.038790267929175566\n",
      "Distance:  0.03936557169287425\n",
      "Distance:  0.039413284825846516\n",
      "Distance:  0.036438422042752446\n",
      "Distance:  0.06503936012300017\n",
      "Distance:  0.08722957446403824\n",
      "Distance:  0.10780234766832109\n",
      "Distance:  0.11083762421641381\n",
      "Distance:  0.11147625945352331\n",
      "Distance:  0.11140314506625429\n",
      "Distance:  0.11132076266919398\n",
      "Distance:  0.11075163758844553\n",
      "Distance:  0.11193073569698071\n",
      "Distance:  0.1117434873569755\n",
      "Distance:  0.11165750072900721\n",
      "Distance:  0.11162574918308735\n",
      "Distance:  0.1114129279801125\n",
      "Distance:  0.11118723453643838\n",
      "Distance:  0.11181334076970642\n",
      "Distance:  0.11164480010673684\n",
      "Distance:  0.1113175016946559\n",
      "Distance:  0.11178776789698076\n",
      "Distance:  0.11154319515784208\n",
      "Distance:  0.11157494670376195\n",
      "Distance:  0.11190876704540699\n",
      "Distance:  0.11180699045857125\n",
      "Distance:  0.1116765516526567\n"
     ]
    },
    {
     "ename": "KeyboardInterrupt",
     "evalue": "",
     "output_type": "error",
     "traceback": [
      "\u001b[0;31m---------------------------------------------------------------------------\u001b[0m",
      "\u001b[0;31mKeyboardInterrupt\u001b[0m                         Traceback (most recent call last)",
      "\u001b[0;32m<ipython-input-3-a9e1d2955999>\u001b[0m in \u001b[0;36m<module>\u001b[0;34m\u001b[0m\n\u001b[1;32m      1\u001b[0m \u001b[0;32mwhile\u001b[0m \u001b[0;32mTrue\u001b[0m\u001b[0;34m:\u001b[0m\u001b[0;34m\u001b[0m\u001b[0;34m\u001b[0m\u001b[0m\n\u001b[1;32m      2\u001b[0m     \u001b[0mprint\u001b[0m\u001b[0;34m(\u001b[0m\u001b[0;34m'Distance: '\u001b[0m\u001b[0;34m,\u001b[0m \u001b[0msensor1\u001b[0m\u001b[0;34m.\u001b[0m\u001b[0mdistance\u001b[0m\u001b[0;34m)\u001b[0m\u001b[0;34m\u001b[0m\u001b[0;34m\u001b[0m\u001b[0m\n\u001b[0;32m----> 3\u001b[0;31m     \u001b[0msleep\u001b[0m\u001b[0;34m(\u001b[0m\u001b[0;36m1\u001b[0m\u001b[0;34m)\u001b[0m\u001b[0;34m\u001b[0m\u001b[0;34m\u001b[0m\u001b[0m\n\u001b[0m",
      "\u001b[0;31mKeyboardInterrupt\u001b[0m: "
     ]
    }
   ],
   "source": [
    "while True:\n",
    "    print('Distance: ', sensor1.distance)\n",
    "    sleep(1)"
   ]
  },
  {
   "cell_type": "code",
   "execution_count": null,
   "metadata": {},
   "outputs": [],
   "source": [
    "print(sensor1.distance*100)"
   ]
  },
  {
   "cell_type": "code",
   "execution_count": null,
   "metadata": {},
   "outputs": [],
   "source": [
    "print(sensor1._echo_changed)"
   ]
  },
  {
   "cell_type": "code",
   "execution_count": null,
   "metadata": {},
   "outputs": [],
   "source": []
  }
 ],
 "metadata": {
  "kernelspec": {
   "display_name": "Python 3",
   "language": "python",
   "name": "python3"
  },
  "language_info": {
   "codemirror_mode": {
    "name": "ipython",
    "version": 3
   },
   "file_extension": ".py",
   "mimetype": "text/x-python",
   "name": "python",
   "nbconvert_exporter": "python",
   "pygments_lexer": "ipython3",
   "version": "3.8.10"
  }
 },
 "nbformat": 4,
 "nbformat_minor": 4
}
