{
 "cells": [
  {
   "cell_type": "code",
   "execution_count": 1,
   "metadata": {},
   "outputs": [],
   "source": [
    "import gpiozero\n",
    "import time"
   ]
  },
  {
   "cell_type": "markdown",
   "metadata": {},
   "source": [
    "#### PWM motor control and shaft encoder feedback\n",
    "\n",
    "I'll use the [gpiozero](https://gpiozero.readthedocs.io/en/stable/) high level interface to the electronics. If you want more control, consider [RPi.GPIO](https://pypi.org/project/RPi.GPIO/) or [pigpio](http://abyz.me.uk/rpi/pigpio/). The code below turns on a pwm control, toggles the direction of the pwm drive, and reads from a rotary encoder. Parameters aren't tuned or properly set-up at all."
   ]
  },
  {
   "cell_type": "code",
   "execution_count": 2,
   "metadata": {},
   "outputs": [],
   "source": [
    "pwm1 = gpiozero.PWMOutputDevice(pin=12,active_high=True,initial_value=0,frequency=50000)\n",
    "pwm2 = gpiozero.PWMOutputDevice(pin=13,active_high=True,initial_value=0,frequency=50000)\n",
    "direction1 = gpiozero.OutputDevice(pin=4)\n",
    "direction2 = gpiozero.OutputDevice(pin=26)"
   ]
  },
  {
   "cell_type": "code",
   "execution_count": 3,
   "metadata": {},
   "outputs": [],
   "source": [
    "encoder1 = gpiozero.RotaryEncoder(a=6, b=5,max_steps=100000) \n",
    "encoder2 = gpiozero.RotaryEncoder(a=23, b=24,max_steps=100000) \n",
    "# This class has a lot more functionality,so worth reading up on it"
   ]
  },
  {
   "cell_type": "code",
   "execution_count": 4,
   "metadata": {},
   "outputs": [
    {
     "name": "stdout",
     "output_type": "stream",
     "text": [
      "Duty cycle: 0.0 Direction: 1\n",
      "Counter: 0 Speed1: 0.0 steps per second\n",
      "\n",
      "Counter: 0 Speed2: 0.0 steps per second\n",
      "\n",
      "Duty cycle: 0.1 Direction: 0\n",
      "Counter: 4027 Speed1: 805.4 steps per second\n",
      "\n",
      "Counter: 4216 Speed2: 843.2 steps per second\n",
      "\n",
      "Duty cycle: 0.2 Direction: 1\n",
      "Counter: -67 Speed1: -818.8 steps per second\n",
      "\n",
      "Counter: -61 Speed2: -855.4 steps per second\n",
      "\n",
      "Duty cycle: 0.3 Direction: 0\n",
      "Counter: 4266 Speed1: 866.6 steps per second\n",
      "\n",
      "Counter: 4431 Speed2: 898.4 steps per second\n",
      "\n",
      "Duty cycle: 0.4 Direction: 1\n",
      "Counter: -125 Speed1: -878.2 steps per second\n",
      "\n",
      "Counter: -157 Speed2: -917.6 steps per second\n",
      "\n",
      "Duty cycle: 0.5 Direction: 0\n",
      "Counter: 4416 Speed1: 908.2 steps per second\n",
      "\n",
      "Counter: 4528 Speed2: 937.0 steps per second\n",
      "\n",
      "Duty cycle: 0.6 Direction: 1\n",
      "Counter: -297 Speed1: -942.6 steps per second\n",
      "\n",
      "Counter: -408 Speed2: -987.2 steps per second\n",
      "\n",
      "Duty cycle: 0.7 Direction: 0\n",
      "Counter: 4549 Speed1: 969.4 steps per second\n",
      "\n",
      "Counter: 4595 Speed2: 1000.6 steps per second\n",
      "\n",
      "Duty cycle: 0.8 Direction: 1\n",
      "Counter: -409 Speed1: -991.8 steps per second\n",
      "\n",
      "Counter: -572 Speed2: -1033.4 steps per second\n",
      "\n",
      "Duty cycle: 0.9 Direction: 0\n",
      "Counter: 4740 Speed1: 1029.8 steps per second\n",
      "\n",
      "Counter: 4756 Speed2: 1065.6 steps per second\n",
      "\n"
     ]
    }
   ],
   "source": [
    "# Step through duty cycle values, slowly increasing the speed and changing the direction of motion\n",
    "pre_steps1 = 0\n",
    "pre_steps2 = 0\n",
    "for j in range(10):\n",
    "    pwm1.value = j/10\n",
    "    pwm2.value = j/10\n",
    "    direction1.value = not direction1.value\n",
    "    direction2.value = not direction2.value\n",
    "    \n",
    "    print('Duty cycle:',pwm1.value,'Direction:',direction1.value)\n",
    "    time.sleep(5.0)\n",
    "    print('Counter:',encoder1.steps,'Speed1:',(encoder1.steps-pre_steps1)/5.0,'steps per second\\n')\n",
    "    pre_steps1 = encoder1.steps\n",
    "    \n",
    "    print('Counter:',encoder2.steps,'Speed2:',(encoder2.steps-pre_steps2)/5.0,'steps per second\\n')\n",
    "    pre_steps2 = encoder2.steps\n",
    "    #NB, if steps keeps increasing, what about integer overflows?"
   ]
  },
  {
   "cell_type": "code",
   "execution_count": 5,
   "metadata": {},
   "outputs": [],
   "source": [
    "pwm1.off()\n",
    "pwm2.off()"
   ]
  },
  {
   "cell_type": "code",
   "execution_count": null,
   "metadata": {},
   "outputs": [],
   "source": []
  }
 ],
 "metadata": {
  "kernelspec": {
   "display_name": "Python 3",
   "language": "python",
   "name": "python3"
  },
  "language_info": {
   "codemirror_mode": {
    "name": "ipython",
    "version": 3
   },
   "file_extension": ".py",
   "mimetype": "text/x-python",
   "name": "python",
   "nbconvert_exporter": "python",
   "pygments_lexer": "ipython3",
   "version": "3.8.10"
  }
 },
 "nbformat": 4,
 "nbformat_minor": 4
}
