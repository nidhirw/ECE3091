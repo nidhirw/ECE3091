{
 "cells": [
  {
   "cell_type": "code",
   "execution_count": 1,
   "metadata": {},
   "outputs": [],
   "source": [
    "import gpiozero\n",
    "import time"
   ]
  },
  {
   "cell_type": "markdown",
   "metadata": {},
   "source": [
    "#### PWM motor control and shaft encoder feedback\n",
    "\n",
    "I'll use the [gpiozero](https://gpiozero.readthedocs.io/en/stable/) high level interface to the electronics. If you want more control, consider [RPi.GPIO](https://pypi.org/project/RPi.GPIO/) or [pigpio](http://abyz.me.uk/rpi/pigpio/). The code below turns on a pwm control, toggles the direction of the pwm drive, and reads from a rotary encoder. Parameters aren't tuned or properly set-up at all."
   ]
  },
  {
   "cell_type": "code",
   "execution_count": 2,
   "metadata": {},
   "outputs": [],
   "source": [
    "pwm1 = gpiozero.PWMOutputDevice(pin=12,active_high=True,initial_value=0,frequency=50000)\n",
    "pwm2 = gpiozero.PWMOutputDevice(pin=13,active_high=True,initial_value=0,frequency=50000)\n",
    "direction1 = gpiozero.OutputDevice(pin=4)\n",
    "direction2 = gpiozero.OutputDevice(pin=26)"
   ]
  },
  {
   "cell_type": "code",
   "execution_count": 3,
   "metadata": {},
   "outputs": [],
   "source": [
    "encoder1 = gpiozero.RotaryEncoder(a=6, b=5,max_steps=100000) \n",
    "encoder2 = gpiozero.RotaryEncoder(a=23, b=24,max_steps=100000) \n",
    "# This class has a lot more functionality,so worth reading up on it"
   ]
  },
  {
   "cell_type": "code",
   "execution_count": 4,
   "metadata": {},
   "outputs": [
    {
     "name": "stdout",
     "output_type": "stream",
     "text": [
      "Duty cycle: 0.0 Direction: 1\n",
      "Counter: 0 Speed1: 0.0 steps per second\n",
      "\n",
      "Counter: 0 Speed2: 0.0 steps per second\n",
      "\n",
      "Duty cycle: 0.001 Direction: 0\n",
      "Counter: 4080 Speed1: 816.0 steps per second\n",
      "\n",
      "Counter: 4145 Speed2: 829.0 steps per second\n",
      "\n",
      "Duty cycle: 0.002 Direction: 1\n",
      "Counter: 86 Speed1: -798.8 steps per second\n",
      "\n",
      "Counter: 60 Speed2: -817.0 steps per second\n",
      "\n",
      "Duty cycle: 0.003 Direction: 0\n",
      "Counter: 4070 Speed1: 796.8 steps per second\n",
      "\n",
      "Counter: 4079 Speed2: 803.8 steps per second\n",
      "\n",
      "Duty cycle: 0.004 Direction: 1\n",
      "Counter: 95 Speed1: -795.2 steps per second\n",
      "\n",
      "Counter: 581 Speed2: -699.6 steps per second\n",
      "\n",
      "Duty cycle: 0.005 Direction: 0\n",
      "Counter: 3981 Speed1: 777.2 steps per second\n",
      "\n",
      "Counter: 4488 Speed2: 781.4 steps per second\n",
      "\n",
      "Duty cycle: 0.006 Direction: 1\n",
      "Counter: 26 Speed1: -791.2 steps per second\n",
      "\n",
      "Counter: 457 Speed2: -806.2 steps per second\n",
      "\n",
      "Duty cycle: 0.007 Direction: 0\n"
     ]
    },
    {
     "ename": "KeyboardInterrupt",
     "evalue": "",
     "output_type": "error",
     "traceback": [
      "\u001b[0;31m---------------------------------------------------------------------------\u001b[0m",
      "\u001b[0;31mKeyboardInterrupt\u001b[0m                         Traceback (most recent call last)",
      "\u001b[0;32m<ipython-input-4-cdc489e841e5>\u001b[0m in \u001b[0;36m<module>\u001b[0;34m\u001b[0m\n\u001b[1;32m      9\u001b[0m \u001b[0;34m\u001b[0m\u001b[0m\n\u001b[1;32m     10\u001b[0m     \u001b[0mprint\u001b[0m\u001b[0;34m(\u001b[0m\u001b[0;34m'Duty cycle:'\u001b[0m\u001b[0;34m,\u001b[0m\u001b[0mpwm1\u001b[0m\u001b[0;34m.\u001b[0m\u001b[0mvalue\u001b[0m\u001b[0;34m,\u001b[0m\u001b[0;34m'Direction:'\u001b[0m\u001b[0;34m,\u001b[0m\u001b[0mdirection1\u001b[0m\u001b[0;34m.\u001b[0m\u001b[0mvalue\u001b[0m\u001b[0;34m)\u001b[0m\u001b[0;34m\u001b[0m\u001b[0;34m\u001b[0m\u001b[0m\n\u001b[0;32m---> 11\u001b[0;31m     \u001b[0mtime\u001b[0m\u001b[0;34m.\u001b[0m\u001b[0msleep\u001b[0m\u001b[0;34m(\u001b[0m\u001b[0;36m5.0\u001b[0m\u001b[0;34m)\u001b[0m\u001b[0;34m\u001b[0m\u001b[0;34m\u001b[0m\u001b[0m\n\u001b[0m\u001b[1;32m     12\u001b[0m     \u001b[0mprint\u001b[0m\u001b[0;34m(\u001b[0m\u001b[0;34m'Counter:'\u001b[0m\u001b[0;34m,\u001b[0m\u001b[0mencoder1\u001b[0m\u001b[0;34m.\u001b[0m\u001b[0msteps\u001b[0m\u001b[0;34m,\u001b[0m\u001b[0;34m'Speed1:'\u001b[0m\u001b[0;34m,\u001b[0m\u001b[0;34m(\u001b[0m\u001b[0mencoder1\u001b[0m\u001b[0;34m.\u001b[0m\u001b[0msteps\u001b[0m\u001b[0;34m-\u001b[0m\u001b[0mpre_steps1\u001b[0m\u001b[0;34m)\u001b[0m\u001b[0;34m/\u001b[0m\u001b[0;36m5.0\u001b[0m\u001b[0;34m,\u001b[0m\u001b[0;34m'steps per second\\n'\u001b[0m\u001b[0;34m)\u001b[0m\u001b[0;34m\u001b[0m\u001b[0;34m\u001b[0m\u001b[0m\n\u001b[1;32m     13\u001b[0m     \u001b[0mpre_steps1\u001b[0m \u001b[0;34m=\u001b[0m \u001b[0mencoder1\u001b[0m\u001b[0;34m.\u001b[0m\u001b[0msteps\u001b[0m\u001b[0;34m\u001b[0m\u001b[0;34m\u001b[0m\u001b[0m\n",
      "\u001b[0;31mKeyboardInterrupt\u001b[0m: "
     ]
    }
   ],
   "source": [
    "# Step through duty cycle values, slowly increasing the speed and changing the direction of motion\n",
    "pre_steps1 = 0\n",
    "pre_steps2 = 0\n",
    "for j in range(10):\n",
    "    pwm1.value = j/10\n",
    "    pwm2.value = j/10\n",
    "    direction1.value = not direction1.value\n",
    "    direction2.value = not direction2.value\n",
    "    \n",
    "    print('Duty cycle:',pwm1.value,'Direction:',direction1.value)\n",
    "    time.sleep(5.0)\n",
    "    print('Counter:',encoder1.steps,'Speed1:',(encoder1.steps-pre_steps1)/5.0,'steps per second\\n')\n",
    "    pre_steps1 = encoder1.steps\n",
    "    \n",
    "    print('Counter:',encoder2.steps,'Speed2:',(encoder2.steps-pre_steps2)/5.0,'steps per second\\n')\n",
    "    pre_steps2 = encoder2.steps\n",
    "    #NB, if steps keeps increasing, what about integer overflows?"
   ]
  },
  {
   "cell_type": "code",
   "execution_count": 5,
   "metadata": {},
   "outputs": [],
   "source": [
    "pwm1.off()\n",
    "pwm2.off()"
   ]
  },
  {
   "cell_type": "code",
   "execution_count": null,
   "metadata": {},
   "outputs": [],
   "source": []
  }
 ],
 "metadata": {
  "kernelspec": {
   "display_name": "Python 3",
   "language": "python",
   "name": "python3"
  },
  "language_info": {
   "codemirror_mode": {
    "name": "ipython",
    "version": 3
   },
   "file_extension": ".py",
   "mimetype": "text/x-python",
   "name": "python",
   "nbconvert_exporter": "python",
   "pygments_lexer": "ipython3",
   "version": "3.8.10"
  }
 },
 "nbformat": 4,
 "nbformat_minor": 4
}
