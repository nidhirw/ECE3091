{
 "cells": [
  {
   "cell_type": "code",
   "execution_count": 3,
   "id": "0191cad8",
   "metadata": {},
   "outputs": [
    {
     "ename": "ModuleNotFoundError",
     "evalue": "No module named 'gpiozero'",
     "output_type": "error",
     "traceback": [
      "\u001b[1;31m---------------------------------------------------------------------------\u001b[0m",
      "\u001b[1;31mModuleNotFoundError\u001b[0m                       Traceback (most recent call last)",
      "\u001b[1;32m<ipython-input-3-3917bda63af6>\u001b[0m in \u001b[0;36m<module>\u001b[1;34m\u001b[0m\n\u001b[0;32m      2\u001b[0m \u001b[1;32mfrom\u001b[0m \u001b[0mmatplotlib\u001b[0m \u001b[1;32mimport\u001b[0m \u001b[0mpyplot\u001b[0m \u001b[1;32mas\u001b[0m \u001b[0mplt\u001b[0m\u001b[1;33m\u001b[0m\u001b[1;33m\u001b[0m\u001b[0m\n\u001b[0;32m      3\u001b[0m \u001b[1;32mfrom\u001b[0m \u001b[0mIPython\u001b[0m \u001b[1;32mimport\u001b[0m \u001b[0mdisplay\u001b[0m\u001b[1;33m\u001b[0m\u001b[1;33m\u001b[0m\u001b[0m\n\u001b[1;32m----> 4\u001b[1;33m \u001b[1;32mimport\u001b[0m \u001b[0mgpiozero\u001b[0m\u001b[1;33m\u001b[0m\u001b[1;33m\u001b[0m\u001b[0m\n\u001b[0m\u001b[0;32m      5\u001b[0m \u001b[1;32mimport\u001b[0m \u001b[0mtime\u001b[0m\u001b[1;33m\u001b[0m\u001b[1;33m\u001b[0m\u001b[0m\n\u001b[0;32m      6\u001b[0m \u001b[1;32mimport\u001b[0m \u001b[0mrpio\u001b[0m\u001b[1;33m.\u001b[0m\u001b[0mgpio\u001b[0m\u001b[1;33m\u001b[0m\u001b[1;33m\u001b[0m\u001b[0m\n",
      "\u001b[1;31mModuleNotFoundError\u001b[0m: No module named 'gpiozero'"
     ]
    }
   ],
   "source": [
    "import numpy as np\n",
    "from matplotlib import pyplot as plt\n",
    "from IPython import display\n",
    "import gpiozero\n",
    "import time\n",
    "import rpio.gpio\n"
   ]
  },
  {
   "cell_type": "code",
   "execution_count": 2,
   "id": "2fc56859",
   "metadata": {},
   "outputs": [
    {
     "ename": "NameError",
     "evalue": "name 'gpiozero' is not defined",
     "output_type": "error",
     "traceback": [
      "\u001b[1;31m---------------------------------------------------------------------------\u001b[0m",
      "\u001b[1;31mNameError\u001b[0m                                 Traceback (most recent call last)",
      "\u001b[1;32m<ipython-input-2-a525b9b02669>\u001b[0m in \u001b[0;36m<module>\u001b[1;34m\u001b[0m\n\u001b[1;32m----> 1\u001b[1;33m \u001b[0mpwm1\u001b[0m \u001b[1;33m=\u001b[0m \u001b[0mgpiozero\u001b[0m\u001b[1;33m.\u001b[0m\u001b[0mPWMOutputDevice\u001b[0m\u001b[1;33m(\u001b[0m\u001b[0mpin\u001b[0m\u001b[1;33m=\u001b[0m\u001b[1;36m12\u001b[0m\u001b[1;33m,\u001b[0m\u001b[0mactive_high\u001b[0m\u001b[1;33m=\u001b[0m\u001b[1;32mTrue\u001b[0m\u001b[1;33m,\u001b[0m\u001b[0minitial_value\u001b[0m\u001b[1;33m=\u001b[0m\u001b[1;36m0\u001b[0m\u001b[1;33m,\u001b[0m\u001b[0mfrequency\u001b[0m\u001b[1;33m=\u001b[0m\u001b[1;36m50000\u001b[0m\u001b[1;33m)\u001b[0m\u001b[1;33m\u001b[0m\u001b[1;33m\u001b[0m\u001b[0m\n\u001b[0m\u001b[0;32m      2\u001b[0m \u001b[0mdir1\u001b[0m \u001b[1;33m=\u001b[0m \u001b[0mgpiozero\u001b[0m\u001b[1;33m.\u001b[0m\u001b[0mOutputDevice\u001b[0m\u001b[1;33m(\u001b[0m\u001b[0mpin\u001b[0m\u001b[1;33m=\u001b[0m\u001b[1;36m4\u001b[0m\u001b[1;33m)\u001b[0m\u001b[1;33m\u001b[0m\u001b[1;33m\u001b[0m\u001b[0m\n\u001b[0;32m      3\u001b[0m \u001b[0mpwm2\u001b[0m \u001b[1;33m=\u001b[0m \u001b[0mgpiozero\u001b[0m\u001b[1;33m.\u001b[0m\u001b[0mPWMOutputDevice\u001b[0m\u001b[1;33m(\u001b[0m\u001b[0mpin\u001b[0m\u001b[1;33m=\u001b[0m\u001b[1;36m12\u001b[0m\u001b[1;33m,\u001b[0m\u001b[0mactive_high\u001b[0m\u001b[1;33m=\u001b[0m\u001b[1;32mTrue\u001b[0m\u001b[1;33m,\u001b[0m\u001b[0minitial_value\u001b[0m\u001b[1;33m=\u001b[0m\u001b[1;36m0\u001b[0m\u001b[1;33m,\u001b[0m\u001b[0mfrequency\u001b[0m\u001b[1;33m=\u001b[0m\u001b[1;36m50000\u001b[0m\u001b[1;33m)\u001b[0m\u001b[1;33m\u001b[0m\u001b[1;33m\u001b[0m\u001b[0m\n\u001b[0;32m      4\u001b[0m \u001b[0mdir2\u001b[0m \u001b[1;33m=\u001b[0m \u001b[0mgpiozero\u001b[0m\u001b[1;33m.\u001b[0m\u001b[0mOutputDevice\u001b[0m\u001b[1;33m(\u001b[0m\u001b[0mpin\u001b[0m\u001b[1;33m=\u001b[0m\u001b[1;36m4\u001b[0m\u001b[1;33m)\u001b[0m\u001b[1;33m\u001b[0m\u001b[1;33m\u001b[0m\u001b[0m\n",
      "\u001b[1;31mNameError\u001b[0m: name 'gpiozero' is not defined"
     ]
    }
   ],
   "source": [
    "pwm1 = gpiozero.PWMOutputDevice(pin=12,active_high=True,initial_value=0,frequency=50000)\n",
    "dir1 = gpiozero.OutputDevice(pin=4)\n",
    "pwm2 = gpiozero.PWMOutputDevice(pin=13,active_high=True,initial_value=0,frequency=50000)\n",
    "dir2 = gpiozero.OutputDevice(pin=26)"
   ]
  },
  {
   "cell_type": "code",
   "execution_count": 4,
   "id": "f2373668",
   "metadata": {},
   "outputs": [
    {
     "ename": "NameError",
     "evalue": "name 'gpiozero' is not defined",
     "output_type": "error",
     "traceback": [
      "\u001b[1;31m---------------------------------------------------------------------------\u001b[0m",
      "\u001b[1;31mNameError\u001b[0m                                 Traceback (most recent call last)",
      "\u001b[1;32m<ipython-input-4-f01e1bd74d0b>\u001b[0m in \u001b[0;36m<module>\u001b[1;34m\u001b[0m\n\u001b[1;32m----> 1\u001b[1;33m \u001b[0mencoder1\u001b[0m \u001b[1;33m=\u001b[0m \u001b[0mgpiozero\u001b[0m\u001b[1;33m.\u001b[0m\u001b[0mRotaryEncoder\u001b[0m\u001b[1;33m(\u001b[0m\u001b[0ma\u001b[0m\u001b[1;33m=\u001b[0m\u001b[1;36m5\u001b[0m\u001b[1;33m,\u001b[0m \u001b[0mb\u001b[0m\u001b[1;33m=\u001b[0m\u001b[1;36m6\u001b[0m\u001b[1;33m,\u001b[0m\u001b[0mmax_steps\u001b[0m\u001b[1;33m=\u001b[0m\u001b[1;36m100000\u001b[0m\u001b[1;33m)\u001b[0m\u001b[1;33m\u001b[0m\u001b[1;33m\u001b[0m\u001b[0m\n\u001b[0m\u001b[0;32m      2\u001b[0m \u001b[0mencoder2\u001b[0m \u001b[1;33m=\u001b[0m \u001b[0mgpiozero\u001b[0m\u001b[1;33m.\u001b[0m\u001b[0mRotaryEncoder\u001b[0m\u001b[1;33m(\u001b[0m\u001b[0ma\u001b[0m\u001b[1;33m=\u001b[0m\u001b[1;36m23\u001b[0m\u001b[1;33m,\u001b[0m \u001b[0mb\u001b[0m\u001b[1;33m=\u001b[0m\u001b[1;36m24\u001b[0m\u001b[1;33m,\u001b[0m\u001b[0mmax_steps\u001b[0m\u001b[1;33m=\u001b[0m\u001b[1;36m100000\u001b[0m\u001b[1;33m)\u001b[0m\u001b[1;33m\u001b[0m\u001b[1;33m\u001b[0m\u001b[0m\n",
      "\u001b[1;31mNameError\u001b[0m: name 'gpiozero' is not defined"
     ]
    }
   ],
   "source": [
    "encoder1 = gpiozero.RotaryEncoder(a=5, b=6,max_steps=100000) \n",
    "encoder2 = gpiozero.RotaryEncoder(a=23, b=24,max_steps=100000) "
   ]
  },
  {
   "cell_type": "code",
   "execution_count": 7,
   "id": "db049489",
   "metadata": {},
   "outputs": [],
   "source": [
    "class DiffDriveRobot:\n",
    "    \n",
    "    def __init__(self,inertia=5, dt=0.1, drag=0.2, wheel_radius=0.05, wheel_sep=0.15):\n",
    "        \n",
    "        self.x = 0.0 # y-position\n",
    "        self.y = 0.0 # y-position \n",
    "        self.th = 0.0 # orientation\n",
    "        \n",
    "        self.wl = 0.0 #rotational velocity left wheel\n",
    "        self.wr = 0.0 #rotational velocity right wheel\n",
    "        \n",
    "        self.I = inertia\n",
    "        self.d = drag\n",
    "        self.dt = dt\n",
    "        \n",
    "        self.r = wheel_radius\n",
    "        self.l = wheel_sep\n",
    "    \n",
    "    # Should be replaced by motor encoder measurement which measures how fast wheel is turning\n",
    "    # Here, we simulate the real system and measurement\n",
    "    def motor_simulator(self,w,duty_cycle):\n",
    "        \n",
    "        torque = self.I*duty_cycle\n",
    "        \n",
    "        if (w > 0):\n",
    "            w = min(w + self.dt*(torque - self.d*w),3)\n",
    "        elif (w < 0):\n",
    "            w = max(w + self.dt*(torque - self.d*w),-3)\n",
    "        else:\n",
    "            w = w + self.dt*(torque)\n",
    "        \n",
    "        return w\n",
    "    \n",
    "    # Veclocity motion model\n",
    "    def base_velocity(self,wl,wr):\n",
    "        \n",
    "        v = (wl*self.r + wr*self.r)/2.0\n",
    "        \n",
    "        w = (wl - wr)/self.l\n",
    "        \n",
    "        return v, w\n",
    "    \n",
    "    # Kinematic motion model\n",
    "    def pose_update(self,duty_cycle_l,duty_cycle_r):\n",
    "        \n",
    "        self.wl = self.motor_simulator(self.wl,duty_cycle_l)\n",
    "        self.wr = self.motor_simulator(self.wr,duty_cycle_r)\n",
    "        \n",
    "        v, w = self.base_velocity(self.wl,self.wr)\n",
    "        \n",
    "        self.x = self.x + self.dt*v*np.cos(self.th)\n",
    "        self.y = self.y + self.dt*v*np.sin(self.th)\n",
    "        self.th = self.th + w*self.dt\n",
    "        \n",
    "        return self.x, self.y, self.th\n",
    "        "
   ]
  },
  {
   "cell_type": "code",
   "execution_count": 8,
   "id": "d657ce8f",
   "metadata": {},
   "outputs": [],
   "source": [
    "class RobotController:\n",
    "    \n",
    "    def __init__(self,Kp=0.1,Ki=0.01,wheel_radius=0.02, wheel_sep=0.1):\n",
    "        \n",
    "        self.Kp = Kp\n",
    "        self.Ki = Ki\n",
    "        self.r = wheel_radius\n",
    "        self.l = wheel_sep\n",
    "        self.e_sum_l = 0\n",
    "        self.e_sum_r = 0\n",
    "        \n",
    "    def p_control(self,w_desired,w_measured,e_sum):\n",
    "        \n",
    "        duty_cycle = min(max(-1,self.Kp*(w_desired-w_measured) + self.Ki*e_sum),1)\n",
    "        \n",
    "        e_sum = e_sum + (w_desired-w_measured)\n",
    "        \n",
    "        return duty_cycle, e_sum\n",
    "        \n",
    "        \n",
    "    def drive(self,v_desired,w_desired,wl,wr):\n",
    "        \n",
    "        wl_desired = v_desired/self.r + self.l*w_desired/2 \n",
    "        wr_desired = v_desired/self.r - self.l*w_desired/2\n",
    "        \n",
    "        duty_cycle_l,self.e_sum_l = self.p_control(wl_desired,wl,self.e_sum_l)\n",
    "        duty_cycle_r,self.e_sum_r = self.p_control(wr_desired,wr,self.e_sum_r)\n",
    "        \n",
    "        return duty_cycle_l, duty_cycle_r\n",
    "        "
   ]
  },
  {
   "cell_type": "code",
   "execution_count": 9,
   "id": "50f5dd8d",
   "metadata": {},
   "outputs": [],
   "source": [
    "class TentaclePlanner:\n",
    "    \n",
    "    def __init__(self,obstacles,dt=0.1,steps=5,alpha=1,beta=0.1):\n",
    "        \n",
    "        self.dt = dt\n",
    "        self.steps = steps\n",
    "        # Tentacles are possible trajectories to follow\n",
    "        self.tentacles = [(0.0,1.0),(0.0,-1.0),(0.1,1.0),(0.1,-1.0),(0.1,0.5),(0.1,-0.5),(0.1,0.0),(0.0,0.0)]\n",
    "        \n",
    "        self.alpha = alpha\n",
    "        self.beta = beta\n",
    "        \n",
    "        self.obstacles = obstacles\n",
    "    \n",
    "    # Play a trajectory and evaluate where you'd end up\n",
    "    def roll_out(self,v,w,goal_x,goal_y,goal_th,x,y,th):\n",
    "        \n",
    "        for j in range(self.steps):\n",
    "        \n",
    "            x = x + self.dt*v*np.cos(th)\n",
    "            y = y + self.dt*v*np.sin(th)\n",
    "            th = (th + w*self.dt)\n",
    "            \n",
    "            if (self.check_collision(x,y)):\n",
    "                return np.inf\n",
    "        \n",
    "        # Wrap angle error -pi,pi\n",
    "        e_th = goal_th-th\n",
    "        e_th = np.arctan2(np.sin(e_th),np.cos(e_th))\n",
    "        \n",
    "        cost = self.alpha*((goal_x-x)**2 + (goal_y-y)**2) + self.beta*(e_th**2)\n",
    "        \n",
    "        return cost\n",
    "    \n",
    "    def check_collision(self,x,y):\n",
    "        \n",
    "        min_dist = np.min(np.sqrt((x-self.obstacles[:,0])**2+(y-self.obstacles[:,1])**2))\n",
    "        \n",
    "        if (min_dist < 0.1):\n",
    "            return True\n",
    "        return False\n",
    "        \n",
    "    \n",
    "    # Choose trajectory that will get you closest to the goal\n",
    "    def plan(self,goal_x,goal_y,goal_th,x,y,th):\n",
    "        \n",
    "        costs =[]\n",
    "        for v,w in self.tentacles:\n",
    "            costs.append(self.roll_out(v,w,goal_x,goal_y,goal_th,x,y,th))\n",
    "        \n",
    "        best_idx = np.argmin(costs)\n",
    "        \n",
    "        return self.tentacles[best_idx]\n",
    "        "
   ]
  },
  {
   "cell_type": "code",
   "execution_count": 10,
   "id": "a6bd3fa7",
   "metadata": {},
   "outputs": [],
   "source": [
    "obstacles = 2*np.random.rand(20,2)-1\n",
    "robot = DiffDriveRobot(inertia=10, dt=0.1, drag=2, wheel_radius=0.05, wheel_sep=0.15)\n",
    "controller = RobotController(Kp=1.0,Ki=0.15,wheel_radius=0.05,wheel_sep=0.15)\n",
    "planner = TentaclePlanner(obstacles,dt=0.1,steps=10,alpha=1,beta=1e-9)"
   ]
  },
  {
   "cell_type": "code",
   "execution_count": null,
   "id": "6af05cbc",
   "metadata": {},
   "outputs": [],
   "source": []
  }
 ],
 "metadata": {
  "kernelspec": {
   "display_name": "Python 3",
   "language": "python",
   "name": "python3"
  },
  "language_info": {
   "codemirror_mode": {
    "name": "ipython",
    "version": 3
   },
   "file_extension": ".py",
   "mimetype": "text/x-python",
   "name": "python",
   "nbconvert_exporter": "python",
   "pygments_lexer": "ipython3",
   "version": "3.8.8"
  }
 },
 "nbformat": 4,
 "nbformat_minor": 5
}
