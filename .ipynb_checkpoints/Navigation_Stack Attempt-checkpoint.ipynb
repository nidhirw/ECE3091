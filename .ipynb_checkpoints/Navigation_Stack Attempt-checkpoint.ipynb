{
 "cells": [
  {
   "cell_type": "code",
   "execution_count": null,
   "metadata": {},
   "outputs": [],
   "source": [
    "import numpy as np\n",
    "from matplotlib import pyplot as plt\n",
    "from IPython import display\n",
    "import gpiozero\n",
    "import time\n",
    "#import rpio.gpio\n",
    "import RPi\n",
    "from gpiozero.pins.rpigpio import RPiGPIOFactory\n",
    "from gpiozero import Device\n",
    "#from gpiozero import RotaryEncoder\n",
    "factory = RPiGPIOFactory()"
   ]
  },
  {
   "cell_type": "code",
   "execution_count": null,
   "metadata": {},
   "outputs": [],
   "source": [
    "pwm1 = gpiozero.PWMOutputDevice(pin=12,active_high=True,initial_value=0,frequency=50000)\n",
    "dir1 = gpiozero.OutputDevice(pin=4)\n",
    "pwm2 = gpiozero.PWMOutputDevice(pin=13,active_high=True,initial_value=0,frequency=50000)\n",
    "dir2 = gpiozero.OutputDevice(pin=26)"
   ]
  },
  {
   "cell_type": "code",
   "execution_count": null,
   "metadata": {},
   "outputs": [],
   "source": [
    "encoder1 = gpiozero.RotaryEncoder(a=6, b=5,max_steps=100000) \n",
    "encoder2 = gpiozero.RotaryEncoder(a=23, b=24,max_steps=100000) "
   ]
  },
  {
   "cell_type": "code",
   "execution_count": null,
   "metadata": {},
   "outputs": [],
   "source": []
  }
 ],
 "metadata": {
  "kernelspec": {
   "display_name": "Python 3",
   "language": "python",
   "name": "python3"
  },
  "language_info": {
   "codemirror_mode": {
    "name": "ipython",
    "version": 3
   },
   "file_extension": ".py",
   "mimetype": "text/x-python",
   "name": "python",
   "nbconvert_exporter": "python",
   "pygments_lexer": "ipython3",
   "version": "3.8.10"
  }
 },
 "nbformat": 4,
 "nbformat_minor": 4
}
