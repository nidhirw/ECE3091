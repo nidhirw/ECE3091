{
 "cells": [
  {
   "cell_type": "code",
   "execution_count": 1,
   "metadata": {},
   "outputs": [],
   "source": [
    "import numpy as np\n",
    "from matplotlib import pyplot as plt\n",
    "from IPython import display\n",
    "import gpiozero\n",
    "import time\n",
    "#import rpio.gpio\n",
    "import RPi\n",
    "from gpiozero.pins.rpigpio import RPiGPIOFactory\n",
    "from gpiozero import Device\n",
    "#from gpiozero import RotaryEncoder\n",
    "factory = RPiGPIOFactory()\n",
    "from time import sleep\n",
    "Device.pin_factory = RPiGPIOFactory()"
   ]
  },
  {
   "cell_type": "code",
   "execution_count": 2,
   "metadata": {},
   "outputs": [
    {
     "name": "stderr",
     "output_type": "stream",
     "text": [
      "/usr/local/lib/python3.8/dist-packages/gpiozero/input_devices.py:855: PWMSoftwareFallback: For more accurate readings, use the pigpio pin factory.See https://gpiozero.readthedocs.io/en/stable/api_input.html#distancesensor-hc-sr04 for more info\n",
      "  warnings.warn(PWMSoftwareFallback(\n"
     ]
    }
   ],
   "source": [
    "sensor1 = gpiozero.DistanceSensor(18,23)\n"
   ]
  },
  {
   "cell_type": "code",
   "execution_count": 5,
   "metadata": {},
   "outputs": [
    {
     "name": "stdout",
     "output_type": "stream",
     "text": [
      "Distance:  100.0\n",
      "Distance:  100.0\n",
      "Distance:  100.0\n",
      "Distance:  100.0\n",
      "Distance:  100.0\n",
      "Distance:  100.0\n",
      "Distance:  100.0\n",
      "Distance:  100.0\n",
      "Distance:  100.0\n",
      "Distance:  77.44597794087622\n",
      "Distance:  5.605521613988799\n",
      "Distance:  4.8656246843544295\n",
      "Distance:  7.013179386154775\n",
      "Distance:  3.117882069598295\n",
      "Distance:  3.8050371019053273\n",
      "Distance:  81.9213503315018\n",
      "Distance:  2.5410336405278713\n",
      "Distance:  3.020310414269033\n",
      "Distance:  9.108953316268298\n",
      "Distance:  9.592675306828482\n",
      "Distance:  12.829119379261101\n",
      "Distance:  4.859909405308372\n",
      "Distance:  100.0\n",
      "Distance:  100.0\n",
      "Distance:  100.0\n",
      "Distance:  100.0\n",
      "Distance:  100.0\n",
      "Distance:  100.0\n",
      "Distance:  100.0\n",
      "Distance:  100.0\n",
      "Distance:  100.0\n",
      "Distance:  100.0\n",
      "Distance:  100.0\n",
      "Distance:  100.0\n",
      "Distance:  100.0\n",
      "Distance:  100.0\n",
      "Distance:  100.0\n",
      "Distance:  100.0\n",
      "Distance:  100.0\n",
      "Distance:  100.0\n"
     ]
    },
    {
     "ename": "KeyboardInterrupt",
     "evalue": "",
     "output_type": "error",
     "traceback": [
      "\u001b[0;31m---------------------------------------------------------------------------\u001b[0m",
      "\u001b[0;31mKeyboardInterrupt\u001b[0m                         Traceback (most recent call last)",
      "\u001b[0;32m<ipython-input-5-8bc3ba0eeeab>\u001b[0m in \u001b[0;36m<module>\u001b[0;34m\u001b[0m\n\u001b[1;32m      1\u001b[0m \u001b[0;32mwhile\u001b[0m \u001b[0;32mTrue\u001b[0m\u001b[0;34m:\u001b[0m\u001b[0;34m\u001b[0m\u001b[0;34m\u001b[0m\u001b[0m\n\u001b[1;32m      2\u001b[0m     \u001b[0mprint\u001b[0m\u001b[0;34m(\u001b[0m\u001b[0;34m'Distance: '\u001b[0m\u001b[0;34m,\u001b[0m \u001b[0msensor1\u001b[0m\u001b[0;34m.\u001b[0m\u001b[0mdistance\u001b[0m \u001b[0;34m*\u001b[0m \u001b[0;36m100\u001b[0m\u001b[0;34m)\u001b[0m\u001b[0;34m\u001b[0m\u001b[0;34m\u001b[0m\u001b[0m\n\u001b[0;32m----> 3\u001b[0;31m     \u001b[0msleep\u001b[0m\u001b[0;34m(\u001b[0m\u001b[0;36m1\u001b[0m\u001b[0;34m)\u001b[0m\u001b[0;34m\u001b[0m\u001b[0;34m\u001b[0m\u001b[0m\n\u001b[0m",
      "\u001b[0;31mKeyboardInterrupt\u001b[0m: "
     ]
    }
   ],
   "source": [
    "while True:\n",
    "    print('Distance: ', sensor1.distance * 100)\n",
    "    sleep(1)"
   ]
  },
  {
   "cell_type": "code",
   "execution_count": 3,
   "metadata": {},
   "outputs": [
    {
     "name": "stdout",
     "output_type": "stream",
     "text": [
      "100.0\n"
     ]
    }
   ],
   "source": [
    "print(sensor1.distance*100)"
   ]
  },
  {
   "cell_type": "code",
   "execution_count": null,
   "metadata": {},
   "outputs": [],
   "source": [
    "print(sensor1._echo_changed)"
   ]
  },
  {
   "cell_type": "code",
   "execution_count": null,
   "metadata": {},
   "outputs": [],
   "source": []
  }
 ],
 "metadata": {
  "kernelspec": {
   "display_name": "Python 3",
   "language": "python",
   "name": "python3"
  },
  "language_info": {
   "codemirror_mode": {
    "name": "ipython",
    "version": 3
   },
   "file_extension": ".py",
   "mimetype": "text/x-python",
   "name": "python",
   "nbconvert_exporter": "python",
   "pygments_lexer": "ipython3",
   "version": "3.8.10"
  }
 },
 "nbformat": 4,
 "nbformat_minor": 4
}
