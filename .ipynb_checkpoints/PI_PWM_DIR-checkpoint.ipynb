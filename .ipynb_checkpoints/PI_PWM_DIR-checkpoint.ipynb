{
 "cells": [
  {
   "cell_type": "code",
   "execution_count": 1,
   "metadata": {},
   "outputs": [],
   "source": [
    "import gpiozero\n",
    "import time"
   ]
  },
  {
   "cell_type": "markdown",
   "metadata": {},
   "source": [
    "#### PWM motor control and shaft encoder feedback\n",
    "\n",
    "I'll use the [gpiozero](https://gpiozero.readthedocs.io/en/stable/) high level interface to the electronics. If you want more control, consider [RPi.GPIO](https://pypi.org/project/RPi.GPIO/) or [pigpio](http://abyz.me.uk/rpi/pigpio/). The code below turns on a pwm control, toggles the direction of the pwm drive, and reads from a rotary encoder. Parameters aren't tuned or properly set-up at all."
   ]
  },
  {
   "cell_type": "code",
   "execution_count": 2,
   "metadata": {},
   "outputs": [],
   "source": [
    "pwm = gpiozero.PWMOutputDevice(pin=12,active_high=True,initial_value=0,frequency=50000)\n",
    "direction = gpiozero.OutputDevice(pin=4)"
   ]
  },
  {
   "cell_type": "code",
   "execution_count": 3,
   "metadata": {},
   "outputs": [],
   "source": [
    "encoder = gpiozero.RotaryEncoder(a=5, b=6,max_steps=100000) \n",
    "# This class has a lot more functionality,so worth reading up on it"
   ]
  },
  {
   "cell_type": "code",
   "execution_count": 4,
   "metadata": {},
   "outputs": [
    {
     "name": "stdout",
     "output_type": "stream",
     "text": [
      "Duty cycle: 0.0 Direction: 1\n",
      "Counter: 0 Speed: 0.0 steps per second\n",
      "\n",
      "Duty cycle: 0.1 Direction: 0\n",
      "Counter: -3093 Speed: -618.6 steps per second\n",
      "\n",
      "Duty cycle: 0.2 Direction: 1\n",
      "Counter: 61 Speed: 630.8 steps per second\n",
      "\n",
      "Duty cycle: 0.3 Direction: 0\n",
      "Counter: -3244 Speed: -661.2 steps per second\n",
      "\n",
      "Duty cycle: 0.4 Direction: 1\n",
      "Counter: 153 Speed: 679.6 steps per second\n",
      "\n",
      "Duty cycle: 0.5 Direction: 0\n",
      "Counter: -3383 Speed: -707.2 steps per second\n",
      "\n",
      "Duty cycle: 0.6 Direction: 1\n",
      "Counter: 316 Speed: 739.8 steps per second\n",
      "\n",
      "Duty cycle: 0.7 Direction: 0\n",
      "Counter: -3491 Speed: -761.4 steps per second\n",
      "\n",
      "Duty cycle: 0.8 Direction: 1\n",
      "Counter: 407 Speed: 779.8 steps per second\n",
      "\n",
      "Duty cycle: 0.9 Direction: 0\n",
      "Counter: -3660 Speed: -813.4 steps per second\n",
      "\n"
     ]
    }
   ],
   "source": [
    "# Step through duty cycle values, slowly increasing the speed and changing the direction of motion\n",
    "pre_steps = 0\n",
    "for j in range(10):\n",
    "    pwm.value = j/10\n",
    "    direction.value = not direction.value\n",
    "    print('Duty cycle:',pwm.value,'Direction:',direction.value)\n",
    "    time.sleep(5.0)\n",
    "    print('Counter:',encoder.steps,'Speed:',(encoder.steps-pre_steps)/5.0,'steps per second\\n')\n",
    "    pre_steps = encoder.steps\n",
    "    \n",
    "    #NB, if steps keeps increasing, what about integer overflows?"
   ]
  },
  {
   "cell_type": "code",
   "execution_count": 5,
   "metadata": {},
   "outputs": [],
   "source": [
    "pwm.off()"
   ]
  }
 ],
 "metadata": {
  "kernelspec": {
   "display_name": "Python 3",
   "language": "python",
   "name": "python3"
  },
  "language_info": {
   "codemirror_mode": {
    "name": "ipython",
    "version": 3
   },
   "file_extension": ".py",
   "mimetype": "text/x-python",
   "name": "python",
   "nbconvert_exporter": "python",
   "pygments_lexer": "ipython3",
   "version": "3.8.8"
  }
 },
 "nbformat": 4,
 "nbformat_minor": 4
}
