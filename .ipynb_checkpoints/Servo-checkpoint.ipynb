{
 "cells": [
  {
   "cell_type": "code",
   "execution_count": null,
   "metadata": {},
   "outputs": [],
   "source": [
    "import numpy as np\n",
    "from matplotlib import pyplot as plt\n",
    "from IPython import display\n",
    "import gpiozero\n",
    "import time\n",
    "#import rpio.gpio\n",
    "import RPi\n",
    "from gpiozero.pins.rpigpio import RPiGPIOFactory\n",
    "from gpiozero import Device\n",
    "#from gpiozero import RotaryEncoder\n",
    "factory = RPiGPIOFactory()\n",
    "from time import sleep\n",
    "Device.pin_factory = RPiGPIOFactory()\n",
    "\n"
   ]
  },
  {
   "cell_type": "code",
   "execution_count": null,
   "metadata": {},
   "outputs": [],
   "source": [
    "servo1 = gpiozero.Servo(17, initial_value=0, min_pulse_width=1/1000, max_pulse_width=2/1000, frame_width=20/1000, pin_factory=factory)\n",
    "\n",
    "while True:\n",
    "    servo1.min()\n",
    "    sleep(1)\n",
    "    servo1.mid()\n",
    "    sleep(1)\n",
    "    servo1.max()\n",
    "    sleep(1)"
   ]
  },
  {
   "cell_type": "code",
   "execution_count": null,
   "metadata": {},
   "outputs": [],
   "source": []
  }
 ],
 "metadata": {
  "kernelspec": {
   "display_name": "Python 3",
   "language": "python",
   "name": "python3"
  },
  "language_info": {
   "codemirror_mode": {
    "name": "ipython",
    "version": 3
   },
   "file_extension": ".py",
   "mimetype": "text/x-python",
   "name": "python",
   "nbconvert_exporter": "python",
   "pygments_lexer": "ipython3",
   "version": "3.8.10"
  }
 },
 "nbformat": 4,
 "nbformat_minor": 4
}
